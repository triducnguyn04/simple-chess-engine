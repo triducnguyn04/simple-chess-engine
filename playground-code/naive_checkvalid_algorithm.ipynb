{
 "cells": [
  {
   "cell_type": "markdown",
   "metadata": {},
   "source": [
    "Here we are writing the naive algorithm to generate all possible moves for each gamestate and check if the move is valid. The move is valid if after it is executed, the king is not in check. Note that this algorithm is extremely inefficient, as it requires regenerating all possible moves two times (very expensive function!).\n",
    "\n",
    "Firstly, we define the GameState class to describe the current gamestate with initial variables."
   ]
  },
  {
   "cell_type": "code",
   "execution_count": null,
   "metadata": {
    "vscode": {
     "languageId": "plaintext"
    }
   },
   "outputs": [],
   "source": [
    "class GameState():\n",
    "    def __init__(self):\n",
    "        self.board = [\n",
    "            [\"bR\",\"bN\",\"bB\",\"bQ\",\"bK\",\"bB\",\"bN\",\"bR\"],\n",
    "            [\"bp\",\"bp\",\"bp\",\"bp\",\"bp\",\"bp\",\"bp\",\"bp\"],\n",
    "            [\"--\",\"--\",\"--\",\"--\",\"--\",\"--\",\"--\",\"--\"],\n",
    "            [\"--\",\"--\",\"--\",\"--\",\"--\",\"--\",\"--\",\"--\"],\n",
    "            [\"--\",\"--\",\"--\",\"--\",\"--\",\"--\",\"--\",\"--\"],\n",
    "            [\"--\",\"--\",\"--\",\"--\",\"--\",\"--\",\"--\",\"--\"],\n",
    "            [\"wp\",\"wp\",\"wp\",\"wp\",\"wp\",\"wp\",\"wp\",\"wp\"],\n",
    "            [\"wR\",\"wN\",\"wB\",\"wQ\",\"wK\",\"wB\",\"wN\",\"wR\"],\n",
    "        ]\n",
    "        self.moveFunctions = {'p':self.getPawnMoves,'R':self.getRookMoves,'N':self.getKnightMoves,'B':self.getBishopMoves,'Q':self.getQueenMoves,'K':self.getKingMoves}\n",
    "        self.whiteToMove = True\n",
    "        self.moveLog = []\n",
    "        self.whiteKingLocation = (7,4)\n",
    "        self.blackKingLocation = (0,4)\n",
    "        self.checkmate = False\n",
    "        self.stalemate = False"
   ]
  },
  {
   "cell_type": "markdown",
   "metadata": {},
   "source": [
    "We then create the class Move to store the information of each move. The information includes the initial and final squares of the piece, its moveID and conversion of the information to conventional notation (for example, the top left square of the chessboard is a8). The moveID is used to compare two Move object if they are equal to each other."
   ]
  },
  {
   "cell_type": "code",
   "execution_count": null,
   "metadata": {
    "vscode": {
     "languageId": "plaintext"
    }
   },
   "outputs": [],
   "source": [
    "class Move():\n",
    "    ranksToRows = {\"1\":7,\"2\":6,\"3\":5,\"4\":4,\"5\":3,\"6\":2,\"7\":1,\"8\":0}\n",
    "    rowsToRanks = {v: k for k, v in ranksToRows.items()}\n",
    "    filesToCols = {\"a\":0,\"b\":1,\"c\":2,\"d\":3,\"e\":4,\"f\":5,\"g\":6,\"h\":7}\n",
    "    colsToFiles = {v: k for k, v in filesToCols.items()}\n",
    "\n",
    "    def __init__(self, startSq, endSq, board):\n",
    "        self.startRow = startSq[0]\n",
    "        self.startCol = startSq[1]\n",
    "        self.endRow = endSq[0]\n",
    "        self.endCol = endSq[1]\n",
    "        self.pieceMoved = board[self.startRow][self.startCol]\n",
    "        self.pieceCaptured = board[self.endRow][self.endCol]\n",
    "        self.moveID = self.startRow * 1000 + self.startCol * 100 + self.endRow * 10 + self.endCol\n",
    "\n",
    "    def __eq__(self, other):\n",
    "        if isinstance(other, Move):\n",
    "            return self.moveID == other.moveID\n",
    "        else:\n",
    "            return False\n",
    "\n",
    "    def getChessNotation(self):\n",
    "        return self.getRankFile(self.startRow, self.startCol) + self.getRankFile(self.endRow,self.endCol)\n",
    "    \n",
    "    def getRankFile(self, r, c):\n",
    "        return self.colsToFiles[c]+self.rowsToRanks[r]"
   ]
  },
  {
   "cell_type": "markdown",
   "metadata": {},
   "source": [
    "Here, by the laws of chess, we define the move function for each piece."
   ]
  },
  {
   "cell_type": "code",
   "execution_count": null,
   "metadata": {
    "vscode": {
     "languageId": "plaintext"
    }
   },
   "outputs": [],
   "source": [
    "Class GameState(GameState):\n",
    "    def getAllPossibleMoves(self):\n",
    "        moves=[]\n",
    "        for r in range(8):\n",
    "            for c in range(8):\n",
    "                turn = self.board[r][c][0]\n",
    "                if (turn =='w' and self.whiteToMove) or (turn=='b' and not self.whiteToMove):\n",
    "                    piece = self.board[r][c][1]\n",
    "                    self.moveFunctions[piece](r,c,moves)\n",
    "        return moves\n",
    "\n",
    "    def getPawnMoves(self,r,c,moves):\n",
    "        if self.whiteToMove:\n",
    "            if self.board[r-1][c]==\"--\":            #empty square in front of white pawn\n",
    "                moves.append(Move((r,c),(r-1,c),self.board))\n",
    "                if self.board[r-2][c]==\"--\":  \n",
    "                    moves.append(Move((r,c),(r-2,c),self.board))\n",
    "            #capture for white                                        \n",
    "            if c-1>=0:\n",
    "                if self.board[r-1][c-1][0]=='b':\n",
    "                    moves.append(Move((r,c),(r-1,c-1),self.board))\n",
    "            if c+1<=7:\n",
    "                if self.board[r-1][c+1][0]=='b':\n",
    "                    moves.append(Move((r,c),(r-1,c+1),self.board))\n",
    "        else:\n",
    "            if self.board[r+1][c]==\"--\":            #empty square in front of black pawn\n",
    "                moves.append(Move((r,c),(r+1,c),self.board))\n",
    "                if self.board[r+2][c]==\"--\":  \n",
    "                    moves.append(Move((r,c),(r+2,c),self.board))\n",
    "            #capture for black                                       \n",
    "            if c-1>=0:\n",
    "                if self.board[r-1][c-1][0]=='b':\n",
    "                    moves.append(Move((r,c),(r+1,c-1),self.board))\n",
    "            if c+1<=7:\n",
    "                if self.board[r-1][c+1][0]=='b':\n",
    "                    moves.append(Move((r,c),(r+1,c+1),self.board))\n",
    "\n",
    "    def getRookMoves(self,r,c,moves):\n",
    "        directions = ((-1,0),(1,0),(0,-1),(0,1))\n",
    "        enemyColor = \"b\" if self.whiteToMove else \"w\"\n",
    "        for d in directions:\n",
    "            for i in range(1,8):\n",
    "                endRow = r + d[0]*i\n",
    "                endCol = c + d[1]*i\n",
    "                if 0<=endRow<8 and 0<=endCol<8:\n",
    "                    if self.board[endRow][endCol]=='--':\n",
    "                        moves.append(Move((r,c),(endRow,endCol),self.board))\n",
    "                    elif self.board[endRow][endCol][0]==enemyColor:\n",
    "                        moves.append(Move((r,c),(endRow,endCol),self.board))\n",
    "                        break\n",
    "                    else:\n",
    "                        break\n",
    "                else:\n",
    "                    break\n",
    "        \n",
    "    def getKnightMoves(self,r,c,moves):\n",
    "        directions = ((-1,2),(-1,-2),(1,-2),(1,2),(-2,1),(-2,-1),(2,-1),(2,1))\n",
    "        enemyColor = \"b\" if self.whiteToMove else \"w\"\n",
    "        for d in directions:\n",
    "            endRow = r + d[0]\n",
    "            endCol = c + d[1]\n",
    "            if 0<=endRow<8 and 0<=endCol<8:\n",
    "                if self.board[endRow][endCol]=='--' or self.board[endRow][endCol][0]==enemyColor:\n",
    "                    moves.append(Move((r,c),(endRow,endCol),self.board))\n",
    "\n",
    "    def getBishopMoves(self,r,c,moves):\n",
    "        directions = ((-1,1),(-1,-1),(1,-1),(1,1))\n",
    "        enemyColor = \"b\" if self.whiteToMove else \"w\"\n",
    "        for d in directions:\n",
    "            for i in range(1,8):\n",
    "                endRow = r + d[0]*i\n",
    "                endCol = c + d[1]*i\n",
    "                if 0<=endRow<8 and 0<=endCol<8:\n",
    "                    if self.board[endRow][endCol]=='--':\n",
    "                        moves.append(Move((r,c),(endRow,endCol),self.board))\n",
    "                    elif self.board[endRow][endCol][0]==enemyColor:\n",
    "                        moves.append(Move((r,c),(endRow,endCol),self.board))\n",
    "                        break\n",
    "                    else:\n",
    "                        break\n",
    "                else:\n",
    "                    break\n",
    "\n",
    "    def getQueenMoves(self,r,c,moves):\n",
    "        directions = ((-1,1),(-1,-1),(1,-1),(1,1),(-1,0),(1,0),(0,1),(0,-1))\n",
    "        enemyColor = \"b\" if self.whiteToMove else \"w\"\n",
    "        for d in directions:\n",
    "            for i in range(1,8):\n",
    "                endRow = r + d[0]*i\n",
    "                endCol = c + d[1]*i\n",
    "                if 0<=endRow<8 and 0<=endCol<8:\n",
    "                    if self.board[endRow][endCol]=='--':\n",
    "                        moves.append(Move((r,c),(endRow,endCol),self.board))\n",
    "                    elif self.board[endRow][endCol][0]==enemyColor:\n",
    "                        moves.append(Move((r,c),(endRow,endCol),self.board))\n",
    "                        break\n",
    "                    else:\n",
    "                        break\n",
    "                else:\n",
    "                    break\n",
    "\n",
    "    def getKingMoves(self,r,c,moves):\n",
    "        directions = ((-1,1),(-1,-1),(1,-1),(1,1),(1,0),(0,1),(-1,0),(-1,-1))\n",
    "        enemyColor = \"b\" if self.whiteToMove else \"w\"\n",
    "        for d in directions:\n",
    "            endRow = r + d[0]\n",
    "            endCol = c + d[1]\n",
    "            if 0<=endRow<8 and 0<=endCol<8:\n",
    "                if self.board[endRow][endCol]=='--' or self.board[endRow][endCol][0]==enemyColor:\n",
    "                    moves.append(Move((r,c),(endRow,endCol),self.board))"
   ]
  },
  {
   "cell_type": "markdown",
   "metadata": {},
   "source": [
    "The key to this algorithm is to generate all possible moves, then for each move we \"hypothetically\" play it. If it puts our king in check, it is invalid and be removed from the list of all possible moves. After that, we undo the move so the gamestate doesn't change after the \"hypothetical\" move. "
   ]
  },
  {
   "cell_type": "code",
   "execution_count": null,
   "metadata": {
    "vscode": {
     "languageId": "plaintext"
    }
   },
   "outputs": [],
   "source": [
    "Class GameState(GameState):\n",
    "    def inCheck(self):\n",
    "        if self.whiteToMove:\n",
    "            return self.squareUnderAttack(self.whiteKingLocation[0], self.whiteKingLocation[1])\n",
    "        else:\n",
    "            return self.squareUnderAttack(self.blackKingLocation[0], self.blackKingLocation[1])\n",
    "\n",
    "        #determine if the enemy can attack the square\n",
    "    def squareUnderAttack(self, r, c):\n",
    "        self.whiteToMove = not self.whiteToMove\n",
    "        oppMoves = self.getAllPossibleMoves()\n",
    "        for move in oppMoves:\n",
    "            if move.endRow == r and move.endCol == c:\n",
    "                self.whiteToMove = not self.whiteToMove\n",
    "                return True\n",
    "        self.whiteToMove = not self.whiteToMove\n",
    "        return False\n",
    "\n",
    "    def makeMove(self, move):\n",
    "        self.board[move.startRow][move.startCol]= \"--\"\n",
    "        self.board[move.endRow][move.endCol] = move.pieceMoved\n",
    "        self.moveLog.append(move)\n",
    "        self.whiteToMove = not self.whiteToMove \n",
    "\n",
    "        #update the king's location\n",
    "        if move.pieceMoved=='wK':\n",
    "            self.whiteKingLocation=(move.endRow,move.endCol)\n",
    "        elif move.pieceMoved=='bK':\n",
    "            self.blackKingLocation=(move.endRow,move.endCol)\n",
    "\n",
    "    #undo the last move made\n",
    "    def undoMove(self):\n",
    "        if len(self.moveLog)!=0:\n",
    "            move = self.moveLog.pop()\n",
    "            self.board[move.startRow][move.startCol]= move.pieceMoved\n",
    "            self.board[move.endRow][move.endCol] = move.pieceCaptured\n",
    "            self.whiteToMove = not self.whiteToMove \n",
    "            #track white and black king postition!"
   ]
  },
  {
   "cell_type": "markdown",
   "metadata": {},
   "source": [
    "Finally we have the getValidMoves function as below. It takes the list from getAllPossibleMoves, check for validity and return the list after removing invalid moves. The remove function is very expensive; hence it is another point to be refined in later versions."
   ]
  },
  {
   "cell_type": "code",
   "execution_count": null,
   "metadata": {
    "vscode": {
     "languageId": "plaintext"
    }
   },
   "outputs": [],
   "source": [
    "Class GameState(GameState):    \n",
    "    def getValidMoves(self): \n",
    "        moves = self.getAllPossibleMoves()\n",
    "        for i in range(len(moves)-1,-1,-1):\n",
    "            self.makeMove(moves[i])\n",
    "            self.whiteToMove = not self.whiteToMove\n",
    "            if self.inCheck():\n",
    "                moves.remove(moves[i])\n",
    "                #very inefficient, popping a non-end-list element!\n",
    "            self.whiteToMove = not self.whiteToMove\n",
    "            self.undoMove()\n",
    "        if len(moves)==0:   #checkmate or stalemate\n",
    "            if self.inCheck():\n",
    "                self.checkmate=True\n",
    "            else:\n",
    "                self.stalemate=True\n",
    "        else:\n",
    "            self.checkmate=False\n",
    "            self.stalemate=False\n",
    "        return moves"
   ]
  }
 ],
 "metadata": {
  "language_info": {
   "name": "python"
  }
 },
 "nbformat": 4,
 "nbformat_minor": 2
}
